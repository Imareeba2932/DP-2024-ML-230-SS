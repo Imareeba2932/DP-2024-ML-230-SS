{
 "cells": [
  {
   "cell_type": "code",
   "execution_count": 2,
   "metadata": {},
   "outputs": [],
   "source": [
    "import pandas as pd\n",
    "from sklearn.feature_extraction.text import TfidfVectorizer\n",
    "from sklearn.metrics.pairwise import cosine_similarity"
   ]
  },
  {
   "cell_type": "code",
   "execution_count": 3,
   "metadata": {},
   "outputs": [
    {
     "name": "stdout",
     "output_type": "stream",
     "text": [
      "                         names       date_x  ...       revenue country\n",
      "0                    Creed III  03/02/2023   ...  2.716167e+08      AU\n",
      "1     Avatar: The Way of Water  12/15/2022   ...  2.316795e+09      AU\n",
      "2  The Super Mario Bros. Movie  04/05/2023   ...  7.244590e+08      AU\n",
      "3                      Mummies  01/05/2023   ...  3.420000e+07      AU\n",
      "4                    Supercell  03/17/2023   ...  3.409420e+08      US\n",
      "\n",
      "[5 rows x 12 columns]\n"
     ]
    }
   ],
   "source": [
    "df = pd.read_csv('imdb_movies.csv')\n",
    "print(df.head())"
   ]
  },
  {
   "cell_type": "code",
   "execution_count": 4,
   "metadata": {},
   "outputs": [
    {
     "name": "stdout",
     "output_type": "stream",
     "text": [
      "<class 'pandas.core.frame.DataFrame'>\n",
      "RangeIndex: 10178 entries, 0 to 10177\n",
      "Data columns (total 12 columns):\n",
      " #   Column      Non-Null Count  Dtype  \n",
      "---  ------      --------------  -----  \n",
      " 0   names       10178 non-null  object \n",
      " 1   date_x      10178 non-null  object \n",
      " 2   score       10178 non-null  float64\n",
      " 3   genre       10093 non-null  object \n",
      " 4   overview    10178 non-null  object \n",
      " 5   crew        10122 non-null  object \n",
      " 6   orig_title  10178 non-null  object \n",
      " 7   status      10178 non-null  object \n",
      " 8   orig_lang   10178 non-null  object \n",
      " 9   budget_x    10178 non-null  float64\n",
      " 10  revenue     10178 non-null  float64\n",
      " 11  country     10178 non-null  object \n",
      "dtypes: float64(3), object(9)\n",
      "memory usage: 954.3+ KB\n"
     ]
    }
   ],
   "source": [
    "df.info()"
   ]
  },
  {
   "cell_type": "code",
   "execution_count": 5,
   "metadata": {},
   "outputs": [],
   "source": [
    "#Handling missing values\n",
    "df['overview'] = df['overview'].fillna('')"
   ]
  },
  {
   "cell_type": "code",
   "execution_count": 6,
   "metadata": {},
   "outputs": [],
   "source": [
    "#Feture extraction using TF - IDF\n",
    "vectorizer = TfidfVectorizer(stop_words='english') #stop_words='english' removes common words like 'the', 'a', 'an', etc.\n",
    "tfidf_matrix = vectorizer.fit_transform(df['overview'])"
   ]
  },
  {
   "cell_type": "code",
   "execution_count": 7,
   "metadata": {},
   "outputs": [],
   "source": [
    "#Computing cosine similarity\n",
    "cosine_sim = cosine_similarity(tfidf_matrix, tfidf_matrix)"
   ]
  },
  {
   "cell_type": "code",
   "execution_count": 8,
   "metadata": {},
   "outputs": [],
   "source": [
    "#Recommendation Function\n",
    "def get_recommendations(title, df, cosine_sim):\n",
    "    idx = df[df['names'] == title].index[0] #Get the index of the movie that matches the title\n",
    "    sim_scores = list(enumerate(cosine_sim[idx])) #Get the pairwsie similarity scores of all movies with that movie\n",
    "    sim_scores = sorted(sim_scores, key=lambda x: x[1], reverse=True) #Sort the movies based on the similarity scores\n",
    "    sim_scores = sim_scores[1:11] #Get the scores of the 10 most similar movies\n",
    "    movies_indices = [i[0] for i in sim_scores] #Get the movie indices\n",
    "    return df['names'].iloc[movies_indices] #Return the top 10 most similar movies"
   ]
  },
  {
   "cell_type": "code",
   "execution_count": 9,
   "metadata": {},
   "outputs": [
    {
     "name": "stdout",
     "output_type": "stream",
     "text": [
      "Movie similar to The Dark Knight are:\n",
      "2109                  Batman: The Long Halloween, Part One\n",
      "2340                  Batman: The Long Halloween, Part Two\n",
      "861                                  The Dark Knight Rises\n",
      "2131                                                Batman\n",
      "10137                                  Batman vs. Two-Face\n",
      "3807                              Batman: The Killing Joke\n",
      "7864     Batman Unmasked: The Psychology of 'The Dark K...\n",
      "2668               Batman: The Dark Knight Returns, Part 2\n",
      "3913                            Batman: Under the Red Hood\n",
      "3053                                        Batman Forever\n",
      "Name: names, dtype: object\n"
     ]
    }
   ],
   "source": [
    "#Test the recommendation function\n",
    "movie_name = 'The Dark Knight'\n",
    "recommendations = get_recommendations(movie_name, df, cosine_sim)\n",
    "print(f\"Movie similar to {movie_name} are:\")\n",
    "print(recommendations)"
   ]
  },
  {
   "cell_type": "code",
   "execution_count": null,
   "metadata": {},
   "outputs": [],
   "source": []
  }
 ],
 "metadata": {
  "kernelspec": {
   "display_name": "base",
   "language": "python",
   "name": "python3"
  },
  "language_info": {
   "codemirror_mode": {
    "name": "ipython",
    "version": 3
   },
   "file_extension": ".py",
   "mimetype": "text/x-python",
   "name": "python",
   "nbconvert_exporter": "python",
   "pygments_lexer": "ipython3",
   "version": "3.12.3"
  }
 },
 "nbformat": 4,
 "nbformat_minor": 2
}
