{
 "cells": [
  {
   "cell_type": "code",
   "execution_count": 28,
   "metadata": {},
   "outputs": [],
   "source": [
    "import pandas as pd\n",
    "from mlxtend.preprocessing import TransactionEncoder\n",
    "from mlxtend.frequent_patterns import apriori, association_rules"
   ]
  },
  {
   "cell_type": "code",
   "execution_count": 29,
   "metadata": {},
   "outputs": [],
   "source": [
    "# Step 1: Load your dataset\n",
    "df = pd.read_csv(\"Groceries_dataset.csv\")  # Replace with your file name"
   ]
  },
  {
   "cell_type": "code",
   "execution_count": 30,
   "metadata": {},
   "outputs": [],
   "source": [
    "# Step 2: Group transactions by Member_number and Date\n",
    "df_grouped = df.groupby(['Member_number', 'Date'])['itemDescription'].apply(list).reset_index()"
   ]
  },
  {
   "cell_type": "code",
   "execution_count": 31,
   "metadata": {},
   "outputs": [],
   "source": [
    "# Step 3: Create list of transactions\n",
    "transactions = df_grouped['itemDescription'].tolist()"
   ]
  },
  {
   "cell_type": "code",
   "execution_count": 33,
   "metadata": {},
   "outputs": [],
   "source": [
    "# Step 4: One-hot encode transactions\n",
    "te = TransactionEncoder()\n",
    "te_array = te.fit(transactions).transform(transactions)\n",
    "df_encoded = pd.DataFrame(te_array, columns=te.columns_)"
   ]
  },
  {
   "cell_type": "code",
   "execution_count": 34,
   "metadata": {},
   "outputs": [],
   "source": [
    "frequent_itemsets = apriori(df_encoded, min_support=0.002, use_colnames=True)"
   ]
  },
  {
   "cell_type": "code",
   "execution_count": 35,
   "metadata": {},
   "outputs": [],
   "source": [
    "rules = association_rules(frequent_itemsets, metric=\"confidence\", min_threshold=0.1)"
   ]
  },
  {
   "cell_type": "code",
   "execution_count": 36,
   "metadata": {},
   "outputs": [],
   "source": [
    "rules_sorted = rules[['antecedents', 'consequents', 'support', 'confidence', 'lift']]\\\n",
    "                .sort_values(by='lift', ascending=False)"
   ]
  },
  {
   "cell_type": "code",
   "execution_count": 37,
   "metadata": {},
   "outputs": [
    {
     "name": "stdout",
     "output_type": "stream",
     "text": [
      "Top 10 Association Rules:\n",
      "\n",
      "                antecedents         consequents   support  confidence  \\\n",
      "23            (frankfurter)  (other vegetables)  0.005146    0.136283   \n",
      "14              (chocolate)        (rolls/buns)  0.002807    0.118980   \n",
      "25           (frozen meals)  (other vegetables)  0.002139    0.127490   \n",
      "35                   (meat)  (other vegetables)  0.002139    0.126984   \n",
      "30                    (ham)        (whole milk)  0.002740    0.160156   \n",
      "3                 (berries)  (other vegetables)  0.002673    0.122699   \n",
      "28  (fruit/vegetable juice)        (rolls/buns)  0.003743    0.110020   \n",
      "6            (bottled beer)        (whole milk)  0.007151    0.157817   \n",
      "42            (salty snack)  (other vegetables)  0.002205    0.117438   \n",
      "10                  (candy)        (whole milk)  0.002139    0.148837   \n",
      "\n",
      "        lift  \n",
      "23  1.116150  \n",
      "14  1.081592  \n",
      "25  1.044134  \n",
      "35  1.039991  \n",
      "30  1.014142  \n",
      "3   1.004899  \n",
      "28  1.000136  \n",
      "6   0.999330  \n",
      "42  0.961807  \n",
      "10  0.942468  \n"
     ]
    }
   ],
   "source": [
    "print(\"Top 10 Association Rules:\\n\")\n",
    "print(rules_sorted.head(10))"
   ]
  },
  {
   "cell_type": "markdown",
   "metadata": {},
   "source": [
    "- Support tells us how frequently an item or itemset appears in the dataset.\n",
    "- Confidence tells us how likely it is that a customer will buy item B, given that they have already bought\n",
    "- Lift tells us how much more likely item B is purchased when A is purchased, compared to when A is not purchased.\n",
    "It compares actual confidence to expected confidence."
   ]
  },
  {
   "cell_type": "code",
   "execution_count": null,
   "metadata": {},
   "outputs": [],
   "source": []
  }
 ],
 "metadata": {
  "kernelspec": {
   "display_name": "base",
   "language": "python",
   "name": "python3"
  },
  "language_info": {
   "codemirror_mode": {
    "name": "ipython",
    "version": 3
   },
   "file_extension": ".py",
   "mimetype": "text/x-python",
   "name": "python",
   "nbconvert_exporter": "python",
   "pygments_lexer": "ipython3",
   "version": "3.12.9"
  }
 },
 "nbformat": 4,
 "nbformat_minor": 2
}
