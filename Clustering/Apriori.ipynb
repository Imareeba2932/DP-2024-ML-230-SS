{
 "cells": [
  {
   "cell_type": "code",
   "execution_count": 28,
   "metadata": {},
   "outputs": [],
   "source": [
    "import pandas as pd\n",
    "from mlxtend.preprocessing import TransactionEncoder\n",
    "from mlxtend.frequent_patterns import apriori, association_rules"
   ]
  },
  {
   "cell_type": "code",
   "execution_count": 29,
   "metadata": {},
   "outputs": [],
   "source": [
    "# Step 1: Load your dataset\n",
    "df = pd.read_csv(\"Groceries_dataset.csv\")  # Replace with your file name"
   ]
  },
  {
   "cell_type": "code",
   "execution_count": 30,
   "metadata": {},
   "outputs": [],
   "source": [
    "# Step 2: Group transactions by Member_number and Date\n",
    "df_grouped = df.groupby(['Member_number', 'Date'])['itemDescription'].apply(list).reset_index()"
   ]
  },
  {
   "cell_type": "code",
   "execution_count": 31,
   "metadata": {},
   "outputs": [],
   "source": [
    "# Step 3: Create list of transactions\n",
    "transactions = df_grouped['itemDescription'].tolist()"
   ]
  },
  {
   "cell_type": "code",
   "execution_count": 33,
   "metadata": {},
   "outputs": [],
   "source": [
    "# Step 4: One-hot encode transactions\n",
    "te = TransactionEncoder()\n",
    "te_array = te.fit(transactions).transform(transactions)\n",
    "df_encoded = pd.DataFrame(te_array, columns=te.columns_)"
   ]
  },
  {
   "cell_type": "code",
   "execution_count": 38,
   "metadata": {},
   "outputs": [
    {
     "name": "stdout",
     "output_type": "stream",
     "text": [
      "      support                          itemsets\n",
      "0    0.004010           (Instant food products)\n",
      "1    0.021386                        (UHT-milk)\n",
      "2    0.008087                   (baking powder)\n",
      "3    0.033950                            (beef)\n",
      "4    0.021787                         (berries)\n",
      "..        ...                               ...\n",
      "325  0.002606             (whole milk, waffles)\n",
      "326  0.004611  (whole milk, whipped/sour cream)\n",
      "327  0.002941      (yogurt, whipped/sour cream)\n",
      "328  0.003141         (whole milk, white bread)\n",
      "329  0.011161              (whole milk, yogurt)\n",
      "\n",
      "[330 rows x 2 columns]\n"
     ]
    }
   ],
   "source": [
    "frequent_itemsets = apriori(df_encoded, min_support=0.002, use_colnames=True)\n",
    "print(frequent_itemsets)"
   ]
  },
  {
   "cell_type": "code",
   "execution_count": 39,
   "metadata": {},
   "outputs": [
    {
     "name": "stdout",
     "output_type": "stream",
     "text": [
      "             antecedents         consequents  antecedent support  \\\n",
      "0             (UHT-milk)  (other vegetables)            0.021386   \n",
      "1             (UHT-milk)        (whole milk)            0.021386   \n",
      "2                 (beef)        (whole milk)            0.033950   \n",
      "3              (berries)  (other vegetables)            0.021787   \n",
      "4              (berries)        (whole milk)            0.021787   \n",
      "..                   ...                 ...                 ...   \n",
      "56      (tropical fruit)        (whole milk)            0.067767   \n",
      "57             (waffles)        (whole milk)            0.018512   \n",
      "58  (whipped/sour cream)        (whole milk)            0.043708   \n",
      "59         (white bread)        (whole milk)            0.023993   \n",
      "60              (yogurt)        (whole milk)            0.085879   \n",
      "\n",
      "    consequent support   support  confidence      lift  representativity  \\\n",
      "0             0.122101  0.002139    0.100000  0.818993               1.0   \n",
      "1             0.157923  0.002540    0.118750  0.751949               1.0   \n",
      "2             0.157923  0.004678    0.137795  0.872548               1.0   \n",
      "3             0.122101  0.002673    0.122699  1.004899               1.0   \n",
      "4             0.157923  0.002272    0.104294  0.660414               1.0   \n",
      "..                 ...       ...         ...       ...               ...   \n",
      "56            0.157923  0.008220    0.121302  0.768108               1.0   \n",
      "57            0.157923  0.002606    0.140794  0.891538               1.0   \n",
      "58            0.157923  0.004611    0.105505  0.668077               1.0   \n",
      "59            0.157923  0.003141    0.130919  0.829007               1.0   \n",
      "60            0.157923  0.011161    0.129961  0.822940               1.0   \n",
      "\n",
      "    leverage  conviction  zhangs_metric   jaccard  certainty  kulczynski  \n",
      "0  -0.000473    0.975443      -0.184234  0.015130  -0.025175    0.058758  \n",
      "1  -0.000838    0.955549      -0.252105  0.014367  -0.046519    0.067416  \n",
      "2  -0.000683    0.976656      -0.131343  0.024991  -0.023902    0.083709  \n",
      "3   0.000013    1.000682       0.004984  0.018930   0.000681    0.072297  \n",
      "4  -0.001168    0.940127      -0.344543  0.012806  -0.063686    0.059341  \n",
      "..       ...         ...            ...       ...        ...         ...  \n",
      "56 -0.002482    0.958323      -0.244626  0.037800  -0.043489    0.086677  \n",
      "57 -0.000317    0.980065      -0.110282  0.014994  -0.020341    0.078649  \n",
      "58 -0.002291    0.941399      -0.341907  0.023406  -0.062249    0.067352  \n",
      "59 -0.000648    0.968928      -0.174463  0.017570  -0.032068    0.075405  \n",
      "60 -0.002401    0.967861      -0.190525  0.047975  -0.033206    0.100317  \n",
      "\n",
      "[61 rows x 14 columns]\n"
     ]
    }
   ],
   "source": [
    "rules = association_rules(frequent_itemsets, metric=\"confidence\", min_threshold=0.1)\n",
    "print(rules)"
   ]
  },
  {
   "cell_type": "code",
   "execution_count": 36,
   "metadata": {},
   "outputs": [],
   "source": [
    "rules_sorted = rules[['antecedents', 'consequents', 'support', 'confidence', 'lift']]\\\n",
    "                .sort_values(by='lift', ascending=False)"
   ]
  },
  {
   "cell_type": "code",
   "execution_count": 37,
   "metadata": {},
   "outputs": [
    {
     "name": "stdout",
     "output_type": "stream",
     "text": [
      "Top 10 Association Rules:\n",
      "\n",
      "                antecedents         consequents   support  confidence  \\\n",
      "23            (frankfurter)  (other vegetables)  0.005146    0.136283   \n",
      "14              (chocolate)        (rolls/buns)  0.002807    0.118980   \n",
      "25           (frozen meals)  (other vegetables)  0.002139    0.127490   \n",
      "35                   (meat)  (other vegetables)  0.002139    0.126984   \n",
      "30                    (ham)        (whole milk)  0.002740    0.160156   \n",
      "3                 (berries)  (other vegetables)  0.002673    0.122699   \n",
      "28  (fruit/vegetable juice)        (rolls/buns)  0.003743    0.110020   \n",
      "6            (bottled beer)        (whole milk)  0.007151    0.157817   \n",
      "42            (salty snack)  (other vegetables)  0.002205    0.117438   \n",
      "10                  (candy)        (whole milk)  0.002139    0.148837   \n",
      "\n",
      "        lift  \n",
      "23  1.116150  \n",
      "14  1.081592  \n",
      "25  1.044134  \n",
      "35  1.039991  \n",
      "30  1.014142  \n",
      "3   1.004899  \n",
      "28  1.000136  \n",
      "6   0.999330  \n",
      "42  0.961807  \n",
      "10  0.942468  \n"
     ]
    }
   ],
   "source": [
    "print(\"Top 10 Association Rules:\\n\")\n",
    "print(rules_sorted.head(10))"
   ]
  },
  {
   "cell_type": "markdown",
   "metadata": {},
   "source": [
    "- Support tells us how frequently an item or itemset appears in the dataset.\n",
    "- Confidence tells us how likely it is that a customer will buy item B, given that they have already bought\n",
    "- Lift tells us how much more likely item B is purchased when A is purchased, compared to when A is not purchased.\n",
    "It compares actual confidence to expected confidence."
   ]
  },
  {
   "cell_type": "code",
   "execution_count": null,
   "metadata": {},
   "outputs": [],
   "source": []
  }
 ],
 "metadata": {
  "kernelspec": {
   "display_name": "base",
   "language": "python",
   "name": "python3"
  },
  "language_info": {
   "codemirror_mode": {
    "name": "ipython",
    "version": 3
   },
   "file_extension": ".py",
   "mimetype": "text/x-python",
   "name": "python",
   "nbconvert_exporter": "python",
   "pygments_lexer": "ipython3",
   "version": "3.12.9"
  }
 },
 "nbformat": 4,
 "nbformat_minor": 2
}
