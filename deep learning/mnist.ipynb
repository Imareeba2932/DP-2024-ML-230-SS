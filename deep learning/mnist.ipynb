{
 "cells": [
  {
   "cell_type": "markdown",
   "id": "e4744854",
   "metadata": {},
   "source": [
    "👉 Normalization kyon zaroori hai?\n",
    "\n",
    "Neural Network ke liye chhoti values process karna easy hota hai.\n",
    "\n",
    "Agar hum pixel values ko 0-1 ke beech rakhein, to model fast aur accurate train hota hai."
   ]
  },
  {
   "cell_type": "code",
   "execution_count": 1,
   "id": "f290ad23",
   "metadata": {},
   "outputs": [],
   "source": [
    "import tensorflow as tf\n",
    "from tensorflow import keras\n",
    "\n",
    "# MNIST Dataset Load Karna\n",
    "mnist = keras.datasets.mnist\n",
    "(X_train, y_train), (X_test, y_test) = mnist.load_data()\n",
    "\n",
    "# Data Normalize Karna (0-255 values ko 0-1 range me convert karna)\n",
    "X_train, X_test = X_train / 255.0, X_test / 255.0\n"
   ]
  },
  {
   "cell_type": "markdown",
   "id": "b84b9212",
   "metadata": {},
   "source": [
    "👉 Kya ho raha hai?\n",
    "\n",
    "Flatten Layer → 2D Image ko 1D vector me convert karta hai.\n",
    "\n",
    "Dense (128 neurons, ReLU Activation) → Hidden layer features seekhti hai.\n",
    "\n",
    "Dense (10 neurons, Softmax Activation) → Output layer digit (0-9) predict karti hai."
   ]
  },
  {
   "cell_type": "code",
   "execution_count": 2,
   "id": "69ccb6e4",
   "metadata": {},
   "outputs": [
    {
     "name": "stderr",
     "output_type": "stream",
     "text": [
      "c:\\Users\\LENOVO\\miniconda3\\Lib\\site-packages\\keras\\src\\layers\\reshaping\\flatten.py:37: UserWarning: Do not pass an `input_shape`/`input_dim` argument to a layer. When using Sequential models, prefer using an `Input(shape)` object as the first layer in the model instead.\n",
      "  super().__init__(**kwargs)\n"
     ]
    }
   ],
   "source": [
    "model = keras.Sequential([\n",
    "    keras.layers.Flatten(input_shape=(28, 28)),  # Input Layer (784 neurons)\n",
    "    keras.layers.Dense(128, activation='relu'),  # Hidden Layer (128 neurons)\n",
    "    keras.layers.Dense(10, activation='softmax')  # Output Layer (10 neurons)\n",
    "])\n"
   ]
  },
  {
   "cell_type": "markdown",
   "id": "6f3c9830",
   "metadata": {},
   "source": [
    "👉 Kya ho raha hai?\n",
    "\n",
    "Optimizer (Adam) → Model ko fast aur efficiently seekhne me madad karta hai. matlab weights ko update karta hai\n",
    "\n",
    "Loss Function (Sparse Categorical Crossentropy) → Model ko batata hai ki wo kitni galti kar raha hai.\n",
    "\n",
    "Epochs (5) → Model ko 5 baar data pe train kar raha hai taaki wo achha seekh sake."
   ]
  },
  {
   "cell_type": "code",
   "execution_count": 3,
   "id": "1faa5c18",
   "metadata": {},
   "outputs": [
    {
     "name": "stdout",
     "output_type": "stream",
     "text": [
      "Epoch 1/5\n",
      "\u001b[1m1875/1875\u001b[0m \u001b[32m━━━━━━━━━━━━━━━━━━━━\u001b[0m\u001b[37m\u001b[0m \u001b[1m6s\u001b[0m 3ms/step - accuracy: 0.8795 - loss: 0.4323\n",
      "Epoch 2/5\n",
      "\u001b[1m1875/1875\u001b[0m \u001b[32m━━━━━━━━━━━━━━━━━━━━\u001b[0m\u001b[37m\u001b[0m \u001b[1m6s\u001b[0m 3ms/step - accuracy: 0.9641 - loss: 0.1230\n",
      "Epoch 3/5\n",
      "\u001b[1m1875/1875\u001b[0m \u001b[32m━━━━━━━━━━━━━━━━━━━━\u001b[0m\u001b[37m\u001b[0m \u001b[1m6s\u001b[0m 3ms/step - accuracy: 0.9762 - loss: 0.0819\n",
      "Epoch 4/5\n",
      "\u001b[1m1875/1875\u001b[0m \u001b[32m━━━━━━━━━━━━━━━━━━━━\u001b[0m\u001b[37m\u001b[0m \u001b[1m5s\u001b[0m 3ms/step - accuracy: 0.9828 - loss: 0.0571\n",
      "Epoch 5/5\n",
      "\u001b[1m1875/1875\u001b[0m \u001b[32m━━━━━━━━━━━━━━━━━━━━\u001b[0m\u001b[37m\u001b[0m \u001b[1m5s\u001b[0m 2ms/step - accuracy: 0.9861 - loss: 0.0437\n"
     ]
    },
    {
     "data": {
      "text/plain": [
       "<keras.src.callbacks.history.History at 0x1ccf518cd70>"
      ]
     },
     "execution_count": 3,
     "metadata": {},
     "output_type": "execute_result"
    }
   ],
   "source": [
    "# Model Compile Karna\n",
    "model.compile(optimizer='adam',\n",
    "              loss='sparse_categorical_crossentropy',\n",
    "              metrics=['accuracy'])\n",
    "\n",
    "# Model Train Karna\n",
    "model.fit(X_train, y_train, epochs=5)\n"
   ]
  },
  {
   "cell_type": "markdown",
   "id": "a30fc3e2",
   "metadata": {},
   "source": [
    "👉 Kya ho raha hai?\n",
    "\n",
    "Model new test images pe run hota hai aur accuracy check karta hai.\n",
    "\n",
    "Agar accuracy high hai (~98%) to model achha train ho gaya."
   ]
  },
  {
   "cell_type": "code",
   "execution_count": 4,
   "id": "6e0a4c6a",
   "metadata": {},
   "outputs": [
    {
     "name": "stdout",
     "output_type": "stream",
     "text": [
      "\u001b[1m313/313\u001b[0m \u001b[32m━━━━━━━━━━━━━━━━━━━━\u001b[0m\u001b[37m\u001b[0m \u001b[1m1s\u001b[0m 3ms/step - accuracy: 0.9719 - loss: 0.0967\n",
      "Test Accuracy: 0.9739999771118164\n"
     ]
    }
   ],
   "source": [
    "# Model Accuracy Test Karna\n",
    "test_loss, test_acc = model.evaluate(X_test, y_test)\n",
    "print(\"Test Accuracy:\", test_acc)\n"
   ]
  },
  {
   "cell_type": "markdown",
   "id": "9b739524",
   "metadata": {},
   "source": [
    "👉 Kya ho raha hai?\n",
    "\n",
    "Test Image ko Model me Pass Kiya\n",
    "\n",
    "Model ne Softmax Activation se highest probability wala digit choose kiya\n",
    "\n",
    "Image ko Show Karke Predicted Digit Print Kiya"
   ]
  },
  {
   "cell_type": "code",
   "execution_count": 5,
   "id": "ce302362",
   "metadata": {},
   "outputs": [
    {
     "name": "stdout",
     "output_type": "stream",
     "text": [
      "\u001b[1m1/1\u001b[0m \u001b[32m━━━━━━━━━━━━━━━━━━━━\u001b[0m\u001b[37m\u001b[0m \u001b[1m0s\u001b[0m 83ms/step\n",
      "Predicted Digit: 1\n"
     ]
    },
    {
     "data": {
      "image/png": "[encoded data removed]",
      "text/plain": [
       "<Figure size 640x480 with 1 Axes>"
      ]
     },
     "metadata": {},
     "output_type": "display_data"
    }
   ],
   "source": [
    "import numpy as np\n",
    "import matplotlib.pyplot as plt\n",
    "\n",
    "# Random Image Select Karna\n",
    "image_index = 5\n",
    "test_image = X_test[image_index]\n",
    "\n",
    "# Model Prediction Karna\n",
    "pred = model.predict(test_image.reshape(1, 28, 28))\n",
    "\n",
    "# Predicted Digit\n",
    "predicted_digit = np.argmax(pred)\n",
    "print(\"Predicted Digit:\", predicted_digit)\n",
    "\n",
    "# Image Show Karna\n",
    "plt.imshow(test_image, cmap='gray')\n",
    "plt.title(f\"Predicted: {predicted_digit}\")\n",
    "plt.show()\n"
   ]
  },
  {
   "cell_type": "markdown",
   "id": "964872d1",
   "metadata": {},
   "source": [
    "## CNN"
   ]
  },
  {
   "cell_type": "markdown",
   "id": "849bdfc8",
   "metadata": {},
   "source": [
    "ANN kya karta tha?\n",
    "\n",
    "Image ko seedha flatten (ek list) bana kar dekh raha tha.\n",
    "\n",
    "CNN kya karta hai?\n",
    "\n",
    "Pehle image ke parts (features) jaise edges, corners, shapes ko pehchanta hai, phir use decision leta hai."
   ]
  },
  {
   "cell_type": "code",
   "execution_count": 6,
   "id": "5e63ab88",
   "metadata": {},
   "outputs": [],
   "source": [
    "import tensorflow as tf\n",
    "from tensorflow.keras import datasets, layers, models\n",
    "import matplotlib.pyplot as plt\n"
   ]
  },
  {
   "cell_type": "markdown",
   "id": "a7ce0c85",
   "metadata": {},
   "source": [
    "reshape: CNN needs a 4D shape: (samples, height, width, channels)\n",
    "\n",
    "1 means grayscale (not colored).\n",
    "\n",
    "/ 255.0: Normalizes pixel values from 0–255 to 0–1 for faster training."
   ]
  },
  {
   "cell_type": "code",
   "execution_count": 7,
   "id": "8fa2f7c8",
   "metadata": {},
   "outputs": [],
   "source": [
    "(X_train, y_train), (X_test, y_test) = keras.datasets.mnist.load_data()\n",
    "\n",
    "# Reshape for CNN (add channel dimension)\n",
    "X_train = X_train.reshape(60000, 28, 28, 1).astype('float32') / 255\n",
    "X_test = X_test.reshape(10000, 28, 28, 1).astype('float32') / 255\n"
   ]
  },
  {
   "cell_type": "code",
   "execution_count": 8,
   "id": "b6dc8230",
   "metadata": {},
   "outputs": [
    {
     "name": "stderr",
     "output_type": "stream",
     "text": [
      "c:\\Users\\LENOVO\\miniconda3\\Lib\\site-packages\\keras\\src\\layers\\convolutional\\base_conv.py:107: UserWarning: Do not pass an `input_shape`/`input_dim` argument to a layer. When using Sequential models, prefer using an `Input(shape)` object as the first layer in the model instead.\n",
      "  super().__init__(activity_regularizer=activity_regularizer, **kwargs)\n"
     ]
    }
   ],
   "source": [
    "model = keras.Sequential([\n",
    "    keras.layers.Conv2D(32, (3,3), activation='relu', input_shape=(28,28,1)),\n",
    "    keras.layers.MaxPooling2D((2,2)),\n",
    "    \n",
    "    keras.layers.Conv2D(64, (3,3), activation='relu'),\n",
    "    keras.layers.MaxPooling2D((2,2)),\n",
    "    \n",
    "    keras.layers.Flatten(),\n",
    "    keras.layers.Dense(64, activation='relu'),\n",
    "    keras.layers.Dense(10, activation='softmax')\n",
    "])\n"
   ]
  },
  {
   "cell_type": "code",
   "execution_count": 9,
   "id": "64aec3bc",
   "metadata": {},
   "outputs": [
    {
     "name": "stdout",
     "output_type": "stream",
     "text": [
      "Epoch 1/5\n",
      "\u001b[1m1875/1875\u001b[0m \u001b[32m━━━━━━━━━━━━━━━━━━━━\u001b[0m\u001b[37m\u001b[0m \u001b[1m22s\u001b[0m 11ms/step - accuracy: 0.9027 - loss: 0.3140\n",
      "Epoch 2/5\n",
      "\u001b[1m1875/1875\u001b[0m \u001b[32m━━━━━━━━━━━━━━━━━━━━\u001b[0m\u001b[37m\u001b[0m \u001b[1m22s\u001b[0m 12ms/step - accuracy: 0.9847 - loss: 0.0501\n",
      "Epoch 3/5\n",
      "\u001b[1m1875/1875\u001b[0m \u001b[32m━━━━━━━━━━━━━━━━━━━━\u001b[0m\u001b[37m\u001b[0m \u001b[1m38s\u001b[0m 10ms/step - accuracy: 0.9898 - loss: 0.0318\n",
      "Epoch 4/5\n",
      "\u001b[1m1875/1875\u001b[0m \u001b[32m━━━━━━━━━━━━━━━━━━━━\u001b[0m\u001b[37m\u001b[0m \u001b[1m16s\u001b[0m 8ms/step - accuracy: 0.9925 - loss: 0.0220\n",
      "Epoch 5/5\n",
      "\u001b[1m1875/1875\u001b[0m \u001b[32m━━━━━━━━━━━━━━━━━━━━\u001b[0m\u001b[37m\u001b[0m \u001b[1m17s\u001b[0m 9ms/step - accuracy: 0.9949 - loss: 0.0156\n"
     ]
    },
    {
     "data": {
      "text/plain": [
       "<keras.src.callbacks.history.History at 0x1ccef9f37d0>"
      ]
     },
     "execution_count": 9,
     "metadata": {},
     "output_type": "execute_result"
    }
   ],
   "source": [
    "model.compile(optimizer='adam',\n",
    "              loss='sparse_categorical_crossentropy', #Best for multiclass classification\n",
    "              metrics=['accuracy'])\n",
    "\n",
    "model.fit(X_train, y_train, epochs=5)\n"
   ]
  },
  {
   "cell_type": "code",
   "execution_count": 10,
   "id": "6cd3116c",
   "metadata": {},
   "outputs": [
    {
     "name": "stdout",
     "output_type": "stream",
     "text": [
      "\u001b[1m313/313\u001b[0m \u001b[32m━━━━━━━━━━━━━━━━━━━━\u001b[0m\u001b[37m\u001b[0m \u001b[1m2s\u001b[0m 5ms/step - accuracy: 0.9878 - loss: 0.0389\n",
      "Test Accuracy: 0.9904000163078308\n"
     ]
    }
   ],
   "source": [
    "test_loss, test_acc = model.evaluate(X_test, y_test)\n",
    "print(\"Test Accuracy:\", test_acc)\n"
   ]
  },
  {
   "cell_type": "code",
   "execution_count": null,
   "id": "879b6178",
   "metadata": {},
   "outputs": [],
   "source": []
  }
 ],
 "metadata": {
  "kernelspec": {
   "display_name": "base",
   "language": "python",
   "name": "python3"
  },
  "language_info": {
   "codemirror_mode": {
    "name": "ipython",
    "version": 3
   },
   "file_extension": ".py",
   "mimetype": "text/x-python",
   "name": "python",
   "nbconvert_exporter": "python",
   "pygments_lexer": "ipython3",
   "version": "3.12.9"
  }
 },
 "nbformat": 4,
 "nbformat_minor": 5
}
