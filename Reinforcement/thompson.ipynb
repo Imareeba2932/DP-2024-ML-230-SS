{
 "cells": [
  {
   "cell_type": "code",
   "execution_count": 75,
   "metadata": {},
   "outputs": [],
   "source": [
    "import random"
   ]
  },
  {
   "cell_type": "code",
   "execution_count": 76,
   "metadata": {},
   "outputs": [],
   "source": [
    "# Number of slot machines and trials\n",
    "n_machines = 3  # We have 3 slot machines\n",
    "n_trials = 10   # We will play 10 times\n"
   ]
  },
  {
   "cell_type": "code",
   "execution_count": 77,
   "metadata": {},
   "outputs": [],
   "source": [
    "# True win probabilities (unknown to the agent)\n",
    "true_rewards = [0.2, 0.5, 0.8]  # Example win rates\n"
   ]
  },
  {
   "cell_type": "code",
   "execution_count": 78,
   "metadata": {},
   "outputs": [],
   "source": [
    "# Track wins and losses for each machine\n",
    "successes = [0] * n_machines  # [0, 0, 0] - wins\n",
    "failures = [0] * n_machines  # [0, 0, 0] - losses\n"
   ]
  },
  {
   "cell_type": "code",
   "execution_count": 79,
   "metadata": {},
   "outputs": [],
   "source": [
    "# Thompson Sampling Algorithm\n",
    "for i in range(n_trials):\n",
    "    # Sample a random probability for each machine\n",
    "    sampled_values = [random.betavariate(successes[i] + 1, failures[i] + 1) for i in range(n_machines)]\n",
    "    \n",
    "    arm = sampled_values.index(max(sampled_values))  # Choose the best guess\n",
    "\n",
    "    # Simulate pulling the machine\n",
    "    reward = 1 if random.random() < true_rewards[arm] else 0\n",
    "\n",
    "    # Update successes or failures\n",
    "    if reward == 1:\n",
    "        successes[arm] += 1\n",
    "    else:\n",
    "        failures[arm] += 1"
   ]
  },
  {
   "cell_type": "code",
   "execution_count": 80,
   "metadata": {},
   "outputs": [
    {
     "name": "stdout",
     "output_type": "stream",
     "text": [
      "Machine 1: Played 1 times, Estimated win rate: 0.00\n",
      "Machine 2: Played 3 times, Estimated win rate: 0.33\n",
      "Machine 3: Played 6 times, Estimated win rate: 1.00\n",
      "Best machine to play: 3\n"
     ]
    }
   ],
   "source": [
    "# Show results\n",
    "for i in range(n_machines):\n",
    "    total = successes[i] + failures[i]\n",
    "    print(f\"Machine {i+1}: Played {total} times, Estimated win rate: {successes[i] / total:.2f}\")\n",
    "\n",
    "print(\"Best machine to play:\", successes.index(max(successes)) + 1)"
   ]
  },
  {
   "cell_type": "code",
   "execution_count": null,
   "metadata": {},
   "outputs": [],
   "source": []
  }
 ],
 "metadata": {
  "kernelspec": {
   "display_name": "base",
   "language": "python",
   "name": "python3"
  },
  "language_info": {
   "codemirror_mode": {
    "name": "ipython",
    "version": 3
   },
   "file_extension": ".py",
   "mimetype": "text/x-python",
   "name": "python",
   "nbconvert_exporter": "python",
   "pygments_lexer": "ipython3",
   "version": "3.12.9"
  }
 },
 "nbformat": 4,
 "nbformat_minor": 2
}
