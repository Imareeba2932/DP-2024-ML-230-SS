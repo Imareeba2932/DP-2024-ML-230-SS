{
 "cells": [
  {
   "cell_type": "markdown",
   "metadata": {},
   "source": [
    "math module is used for mathematical functions like log and sqrt (square root).\n",
    "\n",
    "random module is used to simulate winning a reward."
   ]
  },
  {
   "cell_type": "code",
   "execution_count": 10,
   "metadata": {},
   "outputs": [],
   "source": [
    "import math\n",
    "import random"
   ]
  },
  {
   "cell_type": "markdown",
   "metadata": {},
   "source": [
    "We have 3 slot machines (you can think of them as different choices/options).\n",
    "\n",
    "We will play 10 rounds (meaning we will select a machine 10 times)."
   ]
  },
  {
   "cell_type": "code",
   "execution_count": 11,
   "metadata": {},
   "outputs": [],
   "source": [
    "#Number of slot machines and trials\n",
    "n_machines = 3\n",
    "n_trials = 10 "
   ]
  },
  {
   "cell_type": "markdown",
   "metadata": {},
   "source": [
    "These are the actual winning probabilities of the slot machines.\n",
    "\n",
    "Machine 1 has a 20% chance of winning (0.2).\n",
    "\n",
    "Machine 2 has a 50% chance of winning (0.5).\n",
    "\n",
    "Machine 3 has an 80% chance of winning (0.8).\n",
    "\n",
    "Note: The agent does NOT know these values, they are just for simulation."
   ]
  },
  {
   "cell_type": "code",
   "execution_count": 12,
   "metadata": {},
   "outputs": [],
   "source": [
    "true_rewards = [0.2, 0.5, 0.8]"
   ]
  },
  {
   "cell_type": "markdown",
   "metadata": {},
   "source": [
    "counts[i] stores how many times machine i has been played.\n",
    "\n",
    "rewards[i] stores how many total rewards (wins) were received from machine i.\n",
    "\n",
    "Initially, all values are 0 because we haven't played yet."
   ]
  },
  {
   "cell_type": "code",
   "execution_count": 13,
   "metadata": {},
   "outputs": [],
   "source": [
    "#Track how many times each machine has been played and total rewards\n",
    "counts = [0] * n_machines  # [0, 0, 0]\n",
    "rewards = [0] * n_machines"
   ]
  },
  {
   "cell_type": "code",
   "execution_count": 14,
   "metadata": {},
   "outputs": [],
   "source": [
    "#This loop runs 10 times (since n_trials = 10).\n",
    "#Each time, the agent chooses a slot machine to play.\n",
    "for t in range(1, n_trials + 1):\n",
    "     #If any machine hasn't been played yet (0 in counts), we choose it first.\n",
    "    #counts.index(0) finds the first machine that has not been played and selects it.\n",
    "    #This ensures each machine is played at least once before applying the UCB formula.\n",
    "    if 0 in counts:\n",
    "        arm = counts.index(0)  # Try each machine at least once\n",
    "    else:\n",
    "        # Calculate UCB values: average reward + exploration bonus\n",
    "        ucb_values = [\n",
    "            rewards[i] / counts[i] + math.sqrt(2 * math.log(t) / counts[i])\n",
    "            for i in range(n_machines)\n",
    "        ]\n",
    "        arm = ucb_values.index(max(ucb_values))  # Pick machine with highest value\n",
    "\n",
    "    #Play the chosen machine\n",
    "    #We simulate pulling the slot machine.\n",
    "    reward = 1 if random.random() < true_rewards[arm] else 0\n",
    "    counts[arm] += 1\n",
    "    rewards[arm] += reward"
   ]
  },
  {
   "cell_type": "code",
   "execution_count": 15,
   "metadata": {},
   "outputs": [
    {
     "name": "stdout",
     "output_type": "stream",
     "text": [
      "Machine 1: Played 4 times, Estimated win rate: 0.75\n",
      "Machine 2: Played 4 times, Estimated win rate: 0.75\n",
      "Machine 3: Played 2 times, Estimated win rate: 0.00\n",
      "Best machine to play: 1\n"
     ]
    }
   ],
   "source": [
    "# Show results\n",
    "for i in range(n_machines):\n",
    "    print(f\"Machine {i+1}: Played {counts[i]} times, Estimated win rate: {rewards[i] / counts[i]:.2f}\")\n",
    "\n",
    "print(\"Best machine to play:\", rewards.index(max(rewards)) + 1)"
   ]
  },
  {
   "cell_type": "code",
   "execution_count": null,
   "metadata": {},
   "outputs": [],
   "source": []
  }
 ],
 "metadata": {
  "kernelspec": {
   "display_name": "base",
   "language": "python",
   "name": "python3"
  },
  "language_info": {
   "codemirror_mode": {
    "name": "ipython",
    "version": 3
   },
   "file_extension": ".py",
   "mimetype": "text/x-python",
   "name": "python",
   "nbconvert_exporter": "python",
   "pygments_lexer": "ipython3",
   "version": "3.12.9"
  }
 },
 "nbformat": 4,
 "nbformat_minor": 2
}
