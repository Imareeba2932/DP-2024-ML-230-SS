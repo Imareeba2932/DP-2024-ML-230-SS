{
 "cells": [
  {
   "cell_type": "code",
   "execution_count": 1,
   "metadata": {},
   "outputs": [],
   "source": [
    "import math\n",
    "import random"
   ]
  },
  {
   "cell_type": "code",
   "execution_count": 2,
   "metadata": {},
   "outputs": [],
   "source": [
    "#Number of slot machines and trials\n",
    "n_machines = 3\n",
    "n_trials = 10 "
   ]
  },
  {
   "cell_type": "code",
   "execution_count": 3,
   "metadata": {},
   "outputs": [],
   "source": [
    "true_rewards = [0.2, 0.5, 0.8]"
   ]
  },
  {
   "cell_type": "code",
   "execution_count": 4,
   "metadata": {},
   "outputs": [],
   "source": [
    "#Track how many times each machine has been played and total rewards\n",
    "counts = [0] * n_machines\n",
    "rewards = [0] * n_machines"
   ]
  },
  {
   "cell_type": "code",
   "execution_count": 6,
   "metadata": {},
   "outputs": [
    {
     "name": "stdout",
     "output_type": "stream",
     "text": [
      "Machine 1: Played 2 times, Estimated win rate: 0.00\n",
      "Machine 2: Played 3 times, Estimated win rate: 0.67\n",
      "Machine 3: Played 5 times, Estimated win rate: 0.80\n",
      "Best machine to play: 3\n"
     ]
    }
   ],
   "source": [
    "for t in range(1, n_trials+1):\n",
    "    if 0 in counts:\n",
    "        arm = counts.index(0)\n",
    "    else:\n",
    "        ucb_values = [\n",
    "            rewards[i]/counts[i] + math.sqrt(2*math.log(t)/counts[i])\n",
    "            for i in range(n_machines)\n",
    "        ]\n",
    "        arm = ucb_values.index(max(ucb_values))\n",
    "\n",
    "    #Play the chosen machine\n",
    "    reward = 1 if random.random() < true_rewards[arm] else 0\n",
    "    counts[arm] += 1\n",
    "    rewards[arm] += reward\n",
    "\n",
    "for i in range(n_machines):\n",
    "    print(f\"Machine {i+1}: Played {counts[i]} times, Estimated win rate: {rewards[i]/counts[i]:.2f}\")\n",
    "\n",
    "print(\"Best machine to play:\", rewards.index(max(rewards))+1)"
   ]
  },
  {
   "cell_type": "code",
   "execution_count": null,
   "metadata": {},
   "outputs": [],
   "source": []
  }
 ],
 "metadata": {
  "kernelspec": {
   "display_name": "base",
   "language": "python",
   "name": "python3"
  },
  "language_info": {
   "codemirror_mode": {
    "name": "ipython",
    "version": 3
   },
   "file_extension": ".py",
   "mimetype": "text/x-python",
   "name": "python",
   "nbconvert_exporter": "python",
   "pygments_lexer": "ipython3",
   "version": "3.12.3"
  }
 },
 "nbformat": 4,
 "nbformat_minor": 2
}
